{
 "cells": [
  {
   "cell_type": "code",
   "execution_count": 2,
   "metadata": {},
   "outputs": [],
   "source": [
    "if 1>2:\n",
    "    print('condition met')"
   ]
  },
  {
   "cell_type": "code",
   "execution_count": 3,
   "metadata": {},
   "outputs": [
    {
     "name": "stdout",
     "output_type": "stream",
     "text": [
      "cond met\n"
     ]
    }
   ],
   "source": [
    "if True:\n",
    "    print('cond met')"
   ]
  },
  {
   "cell_type": "code",
   "execution_count": 4,
   "metadata": {},
   "outputs": [],
   "source": [
    "cond = 1<2"
   ]
  },
  {
   "cell_type": "code",
   "execution_count": 5,
   "metadata": {},
   "outputs": [
    {
     "name": "stdout",
     "output_type": "stream",
     "text": [
      "cond met\n"
     ]
    }
   ],
   "source": [
    "if cond:\n",
    "    print('cond met')"
   ]
  },
  {
   "cell_type": "code",
   "execution_count": 7,
   "metadata": {},
   "outputs": [
    {
     "name": "stdout",
     "output_type": "stream",
     "text": [
      "last blosk happened to run\n"
     ]
    }
   ],
   "source": [
    "if 1==1000:\n",
    "    print(\"CONDITION MET 1==1\")\n",
    "else:\n",
    "    print(\"last blosk happened to run\")"
   ]
  },
  {
   "cell_type": "code",
   "execution_count": 8,
   "metadata": {},
   "outputs": [
    {
     "name": "stdout",
     "output_type": "stream",
     "text": [
      "third condition true\n"
     ]
    }
   ],
   "source": [
    "if 2==0:\n",
    "    print('first condition true')\n",
    "elif 2==1:\n",
    "    print('second condition true')\n",
    "elif 2==2:\n",
    "    print('third condition true')\n",
    "else:\n",
    "    print('nothing above was true')"
   ]
  },
  {
   "cell_type": "code",
   "execution_count": 9,
   "metadata": {},
   "outputs": [
    {
     "name": "stdout",
     "output_type": "stream",
     "text": [
      "second condition true\n"
     ]
    }
   ],
   "source": [
    "if 2==0:\n",
    "    print('first condition true')\n",
    "elif 2==2:\n",
    "    print('second condition true')\n",
    "elif 2==2:\n",
    "    print('third condition true')\n",
    "else:\n",
    "    print('nothing above was true')"
   ]
  },
  {
   "cell_type": "code",
   "execution_count": 10,
   "metadata": {},
   "outputs": [],
   "source": [
    "agent_code = 231912\n",
    "access = False"
   ]
  },
  {
   "cell_type": "code",
   "execution_count": 11,
   "metadata": {},
   "outputs": [
    {
     "name": "stdout",
     "output_type": "stream",
     "text": [
      "Welcome agent 231912\n",
      "Access granted\n"
     ]
    }
   ],
   "source": [
    "if agent_code ==12345:\n",
    "    print('CODE RESET')\n",
    "    print('call a supervisor')\n",
    "elif agent_code == 231912:\n",
    "    print('Welcome agent 231912')\n",
    "    access = True\n",
    "else:\n",
    "    print('Sorry no matching code')\n",
    "    \n",
    "\n",
    "#######\n",
    "#######\n",
    "\n",
    "if access == True:\n",
    "    print('Access granted')\n",
    "else:\n",
    "    print('Access denied.')"
   ]
  },
  {
   "cell_type": "code",
   "execution_count": null,
   "metadata": {},
   "outputs": [],
   "source": []
  }
 ],
 "metadata": {
  "kernelspec": {
   "display_name": "Python 3",
   "language": "python",
   "name": "python3"
  },
  "language_info": {
   "codemirror_mode": {
    "name": "ipython",
    "version": 3
   },
   "file_extension": ".py",
   "mimetype": "text/x-python",
   "name": "python",
   "nbconvert_exporter": "python",
   "pygments_lexer": "ipython3",
   "version": "3.7.3"
  }
 },
 "nbformat": 4,
 "nbformat_minor": 2
}
