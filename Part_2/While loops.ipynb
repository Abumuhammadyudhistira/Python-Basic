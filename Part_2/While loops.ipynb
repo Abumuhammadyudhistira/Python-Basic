{
 "cells": [
  {
   "cell_type": "code",
   "execution_count": 1,
   "metadata": {},
   "outputs": [
    {
     "name": "stdout",
     "output_type": "stream",
     "text": [
      "Welcome Agent\n",
      "Please provide your passcode: 124\n",
      "WRONG PASSWORD\n",
      "PLEASE GO AGAIN\n",
      "\n",
      "\n",
      "Please provide your passcode: 334\n",
      "WRONG PASSWORD\n",
      "PLEASE GO AGAIN\n",
      "\n",
      "\n",
      "Please provide your passcode: 123\n",
      "Correct password\n"
     ]
    }
   ],
   "source": [
    "print('Welcome Agent')\n",
    "\n",
    "passcode = 0\n",
    "\n",
    "while passcode != 123:\n",
    "    passcode = int(input('Please provide your passcode: '))\n",
    "    \n",
    "    if passcode != 123:\n",
    "        print('WRONG PASSWORD')\n",
    "        print('PLEASE GO AGAIN')\n",
    "        print('\\n')\n",
    "        \n",
    "print('Correct password')"
   ]
  },
  {
   "cell_type": "code",
   "execution_count": 2,
   "metadata": {},
   "outputs": [
    {
     "name": "stdout",
     "output_type": "stream",
     "text": [
      "X is currently\n",
      "0\n",
      "Still less than 3, add 1 to X\n",
      "\n",
      "\n",
      "X is currently\n",
      "1\n",
      "Still less than 3, add 1 to X\n",
      "\n",
      "\n",
      "X is currently\n",
      "2\n",
      "Still less than 3, add 1 to X\n",
      "\n",
      "\n"
     ]
    }
   ],
   "source": [
    "x = 0\n",
    "\n",
    "while x<3:\n",
    "    print('X is currently')\n",
    "    print(x)\n",
    "    print('Still less than 3, add 1 to X')\n",
    "    x = x + 1\n",
    "    print('\\n')"
   ]
  },
  {
   "cell_type": "code",
   "execution_count": 3,
   "metadata": {},
   "outputs": [
    {
     "name": "stdout",
     "output_type": "stream",
     "text": [
      "Please input a number: 2\n"
     ]
    }
   ],
   "source": [
    "saved_input = input('Please input a number: ')"
   ]
  },
  {
   "cell_type": "code",
   "execution_count": 4,
   "metadata": {},
   "outputs": [
    {
     "name": "stdout",
     "output_type": "stream",
     "text": [
      "0\n",
      "1\n",
      "2\n",
      "3\n",
      "4\n",
      "5\n",
      "6\n",
      "7\n",
      "8\n",
      "9\n"
     ]
    }
   ],
   "source": [
    "x = 0\n",
    "\n",
    "while x <10:\n",
    "    print(x)\n",
    "    x = x + 1  #The way you want to stop the while loop is using break"
   ]
  },
  {
   "cell_type": "code",
   "execution_count": 5,
   "metadata": {},
   "outputs": [
    {
     "name": "stdout",
     "output_type": "stream",
     "text": [
      "0\n",
      "1\n",
      "2\n"
     ]
    }
   ],
   "source": [
    "x = 0\n",
    "\n",
    "while x <10:\n",
    "    print(x)\n",
    "    x = x + 1\n",
    "    \n",
    "    if x == 3:\n",
    "        break"
   ]
  },
  {
   "cell_type": "code",
   "execution_count": null,
   "metadata": {},
   "outputs": [],
   "source": []
  }
 ],
 "metadata": {
  "kernelspec": {
   "display_name": "Python 3",
   "language": "python",
   "name": "python3"
  },
  "language_info": {
   "codemirror_mode": {
    "name": "ipython",
    "version": 3
   },
   "file_extension": ".py",
   "mimetype": "text/x-python",
   "name": "python",
   "nbconvert_exporter": "python",
   "pygments_lexer": "ipython3",
   "version": "3.7.3"
  }
 },
 "nbformat": 4,
 "nbformat_minor": 2
}
