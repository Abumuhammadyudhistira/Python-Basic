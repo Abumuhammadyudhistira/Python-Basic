{
 "cells": [
  {
   "cell_type": "code",
   "execution_count": 6,
   "metadata": {},
   "outputs": [],
   "source": [
    "#1\n",
    "class Sphere():\n",
    "    \n",
    "    pi = 3.14\n",
    "    \n",
    "    def __init__(self,radius):\n",
    "        \n",
    "        self.radius = radius\n",
    "        \n",
    "    def volume(self):\n",
    "        \n",
    "        return Sphere.pi * self.radius * self.radius * self.radius * 4 / 3\n",
    "    \n",
    "    def surface_area(self):\n",
    "        \n",
    "        return 4 * Sphere.pi * self.radius * self.radius"
   ]
  },
  {
   "cell_type": "code",
   "execution_count": 11,
   "metadata": {},
   "outputs": [],
   "source": [
    "s = Sphere(1)"
   ]
  },
  {
   "cell_type": "code",
   "execution_count": 12,
   "metadata": {},
   "outputs": [
    {
     "data": {
      "text/plain": [
       "1"
      ]
     },
     "execution_count": 12,
     "metadata": {},
     "output_type": "execute_result"
    }
   ],
   "source": [
    "s.radius"
   ]
  },
  {
   "cell_type": "code",
   "execution_count": 13,
   "metadata": {},
   "outputs": [
    {
     "data": {
      "text/plain": [
       "4.1866666666666665"
      ]
     },
     "execution_count": 13,
     "metadata": {},
     "output_type": "execute_result"
    }
   ],
   "source": [
    "s.volume()"
   ]
  },
  {
   "cell_type": "code",
   "execution_count": 14,
   "metadata": {},
   "outputs": [
    {
     "data": {
      "text/plain": [
       "12.56"
      ]
     },
     "execution_count": 14,
     "metadata": {},
     "output_type": "execute_result"
    }
   ],
   "source": [
    "s.surface_area()"
   ]
  },
  {
   "cell_type": "code",
   "execution_count": 3,
   "metadata": {},
   "outputs": [],
   "source": [
    "#2\n",
    "import random\n",
    "\n",
    "class GuessingGame():\n",
    "    \n",
    "    def __init__(self):\n",
    "        \n",
    "        self.rand_choice = random.randint(0,10)\n",
    "    \n",
    "    def reset_random(self):\n",
    "        print(\"Resetting random choice\")\n",
    "        self.rand_choice = random.randint(0,10)\n",
    "    \n",
    "    def guess(self):\n",
    "        \n",
    "        randnum = input('Please input your guess (0-10) : ')\n",
    "        \n",
    "        if int(randnum) == self.rand_choice:\n",
    "            print('Correct Guess')\n",
    "            \n",
    "        elif int(randnum) < self.rand_choice:\n",
    "            print(\"Sorry you didn't guess correctly!\")\n",
    "            print('Guess Lower')\n",
    "            print('Call the guess() method again to try again')\n",
    "            \n",
    "        elif int(randnum) > self.rand_choice:\n",
    "            print(\"Sorry you didn't guess correctly!\")\n",
    "            print('Guess Higher')\n",
    "            print('Call the guess() method again to try again')\n",
    "        "
   ]
  },
  {
   "cell_type": "code",
   "execution_count": 4,
   "metadata": {},
   "outputs": [],
   "source": [
    "g = GuessingGame()"
   ]
  },
  {
   "cell_type": "code",
   "execution_count": 5,
   "metadata": {},
   "outputs": [
    {
     "data": {
      "text/plain": [
       "10"
      ]
     },
     "execution_count": 5,
     "metadata": {},
     "output_type": "execute_result"
    }
   ],
   "source": [
    "g.rand_choice"
   ]
  },
  {
   "cell_type": "code",
   "execution_count": null,
   "metadata": {},
   "outputs": [],
   "source": [
    "g.guess()"
   ]
  },
  {
   "cell_type": "code",
   "execution_count": 157,
   "metadata": {},
   "outputs": [
    {
     "name": "stdout",
     "output_type": "stream",
     "text": [
      "Please input your guess (0-10) : 4\n",
      "Sorry you didn't guess correctly!\n",
      "Guess Higher\n",
      "Call the guess() method again to try again\n"
     ]
    }
   ],
   "source": [
    "g.guess()"
   ]
  },
  {
   "cell_type": "code",
   "execution_count": 158,
   "metadata": {},
   "outputs": [
    {
     "name": "stdout",
     "output_type": "stream",
     "text": [
      "Please input your guess (0-10) : 1\n",
      "Correct Guess\n"
     ]
    }
   ],
   "source": [
    "g.guess()"
   ]
  }
 ],
 "metadata": {
  "kernelspec": {
   "display_name": "Python 3",
   "language": "python",
   "name": "python3"
  },
  "language_info": {
   "codemirror_mode": {
    "name": "ipython",
    "version": 3
   },
   "file_extension": ".py",
   "mimetype": "text/x-python",
   "name": "python",
   "nbconvert_exporter": "python",
   "pygments_lexer": "ipython3",
   "version": "3.7.3"
  }
 },
 "nbformat": 4,
 "nbformat_minor": 2
}
