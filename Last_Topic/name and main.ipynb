{
 "cells": [
  {
   "cell_type": "markdown",
   "metadata": {},
   "source": [
    "# __name__ and \"__main__\""
   ]
  },
  {
   "cell_type": "markdown",
   "metadata": {},
   "source": [
    "In larger script often found;\n",
    "If __name__ == \"__main__\" ;\n",
    "it is designed to help indicate where function call are coming from\n",
    "when working with multiply .py scripts ;\n",
    "sometime we don't know the module is used as an import or original file;"
   ]
  },
  {
   "cell_type": "markdown",
   "metadata": {},
   "source": [
    "((__name__)) is a built-in variable which evaluates to the name of the current module "
   ]
  },
  {
   "cell_type": "markdown",
   "metadata": {},
   "source": []
  }
 ],
 "metadata": {
  "kernelspec": {
   "display_name": "Python 3",
   "language": "python",
   "name": "python3"
  },
  "language_info": {
   "codemirror_mode": {
    "name": "ipython",
    "version": 3
   },
   "file_extension": ".py",
   "mimetype": "text/x-python",
   "name": "python",
   "nbconvert_exporter": "python",
   "pygments_lexer": "ipython3",
   "version": "3.7.3"
  }
 },
 "nbformat": 4,
 "nbformat_minor": 2
}
