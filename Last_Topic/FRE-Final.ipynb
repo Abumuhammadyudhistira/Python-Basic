{
 "cells": [
  {
   "cell_type": "code",
   "execution_count": 1,
   "metadata": {},
   "outputs": [],
   "source": [
    "import string\n",
    "import random\n",
    "\n",
    "class Encryption():\n",
    "    def __init__(self,seed):\n",
    "        \n",
    "        # Set a random seed and a self.seed attribute\n",
    "        self.seed = random.seed(seed)\n",
    "        \n",
    "        # Create an empty string attribute to hold the encrypted phrase\n",
    "        # Use the string and random libraries to create two attributes\n",
    "        # One is the correct alphabet, another is a shuffled alphabet (hint: random.sample())\n",
    "        \n",
    "        self.alphabet = list(string.ascii_lowercase)\n",
    "        self.shuffled_alphabet = ''.join(random.sample(string.ascii_lowercase,26))\n",
    "        \n",
    "    \n",
    "    def encryption(self,message):\n",
    "        \n",
    "        encrypted_text = list(range(len(message+message)))\n",
    "        x = list(range(len(message+message)))\n",
    "        \n",
    "        for i,letter in enumerate(message.lower()):\n",
    "            if letter in self.alphabet:\n",
    "            \n",
    "                encrypted_text[i*2] = letter\n",
    "                encrypted_text[(i*2)+1] = random.sample(string.ascii_lowercase,1)[0]\n",
    "                \n",
    "            else:\n",
    "                encrypted_text[i*2] = letter\n",
    "                encrypted_text[(i*2)+1] = random.sample(string.ascii_lowercase,1)[0]\n",
    "        \n",
    "        encrypted_phrase = encrypted_text[len(encrypted_text):None:-1]\n",
    "        \n",
    "        for i,letter in enumerate(encrypted_phrase):\n",
    "        \n",
    "            if letter in self.alphabet:\n",
    "            \n",
    "                original_index = self.alphabet.index(letter)\n",
    "                new_letter = self.shuffled_alphabet[original_index]\n",
    "                x[i] = new_letter\n",
    "            \n",
    "            else:\n",
    "                x[i] = letter\n",
    "            \n",
    "        return ''.join(x)\n",
    "    \n",
    "    def decryption(self,message,seed):\n",
    "        \n",
    "        \n",
    "        random.seed(seed)\n",
    "        decrypted_text = list(range(len(message)))\n",
    "        decrypted_phrase = list(range(int(len(message)/2)))\n",
    "        \n",
    "        for i,letter in enumerate(message.lower()):\n",
    "        \n",
    "            if letter in self.alphabet:\n",
    "            \n",
    "                original_index = self.shuffled_alphabet.index(letter)\n",
    "                new_letter = self.alphabet[original_index]\n",
    "                decrypted_text[i] = new_letter\n",
    "            \n",
    "            else:\n",
    "                decrypted_text[i] = letter\n",
    "        \n",
    "        z = decrypted_text[len(decrypted_text):None:-1]\n",
    "        decrypted_phrase = z[0:len(z):2]\n",
    "        \n",
    "        return ''.join(decrypted_phrase)"
   ]
  },
  {
   "cell_type": "code",
   "execution_count": 2,
   "metadata": {},
   "outputs": [],
   "source": [
    "x = Encryption(20)"
   ]
  },
  {
   "cell_type": "code",
   "execution_count": 3,
   "metadata": {},
   "outputs": [
    {
     "data": {
      "text/plain": [
       "'divgkjocdze bcrgqghywk'"
      ]
     },
     "execution_count": 3,
     "metadata": {},
     "output_type": "execute_result"
    }
   ],
   "source": [
    "x.encryption('hello world')"
   ]
  },
  {
   "cell_type": "code",
   "execution_count": 4,
   "metadata": {},
   "outputs": [
    {
     "data": {
      "text/plain": [
       "'hello world'"
      ]
     },
     "execution_count": 4,
     "metadata": {},
     "output_type": "execute_result"
    }
   ],
   "source": [
    "x.decryption('divgkjocdze bcrgqghywk',20)"
   ]
  }
 ],
 "metadata": {
  "kernelspec": {
   "display_name": "Python 3",
   "language": "python",
   "name": "python3"
  },
  "language_info": {
   "codemirror_mode": {
    "name": "ipython",
    "version": 3
   },
   "file_extension": ".py",
   "mimetype": "text/x-python",
   "name": "python",
   "nbconvert_exporter": "python",
   "pygments_lexer": "ipython3",
   "version": "3.7.3"
  }
 },
 "nbformat": 4,
 "nbformat_minor": 2
}
